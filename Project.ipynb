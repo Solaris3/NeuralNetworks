{
 "cells": [
  {
   "cell_type": "code",
   "execution_count": 33,
   "metadata": {
    "collapsed": false
   },
   "outputs": [
    {
     "name": "stdout",
     "output_type": "stream",
     "text": [
      "Populating the interactive namespace from numpy and matplotlib\n"
     ]
    }
   ],
   "source": [
    "%pylab inline"
   ]
  },
  {
   "cell_type": "code",
   "execution_count": 34,
   "metadata": {
    "collapsed": false
   },
   "outputs": [],
   "source": [
    "import theano\n",
    "import theano.tensor.signal.downsample\n",
    "from theano.tensor.shared_randomstreams import RandomStreams\n",
    "\n",
    "#note: this requires the starter code for the assignments!\n",
    "from common.plotting import plot_mat"
   ]
  },
  {
   "cell_type": "markdown",
   "metadata": {},
   "source": [
    "Building dataset:\n",
    "\n",
    "[Customizable: trainset size]\n",
    "\n",
    "Initializing all data picking train/validation sets ratio"
   ]
  },
  {
   "cell_type": "code",
   "execution_count": 35,
   "metadata": {
    "collapsed": false
   },
   "outputs": [
    {
     "name": "stdout",
     "output_type": "stream",
     "text": [
      "The streams return batches containing (u'features', u'targets')\n",
      "Each trainin batch consits of a tuple containing:\n",
      " - an array of size (25, 3, 32, 32) containing float32\n",
      " - an array of size (25, 1) containing uint8\n",
      "Validation/test batches consits of tuples containing:\n",
      " - an array of size (25, 3, 32, 32) containing float32\n",
      " - an array of size (25, 1) containing uint8\n"
     ]
    }
   ],
   "source": [
    "from fuel.datasets.cifar10 import CIFAR10\n",
    "from fuel.transformers import ScaleAndShift, Cast, Flatten, Mapping\n",
    "from fuel.streams import DataStream\n",
    "from fuel.schemes import SequentialScheme, ShuffledScheme\n",
    "\n",
    "CIFAR10.default_transformers = (\n",
    "    (ScaleAndShift, [2.0 / 255.0, -1], {'which_sources': 'features'}),\n",
    "    (Cast, [np.float32], {'which_sources': 'features'}))\n",
    "\n",
    "#trainset [0,50k]\n",
    "trainset=40000\n",
    "cifar_train = CIFAR10((\"train\",), subset=slice(None,trainset))\n",
    "\n",
    "#this stream will shuffle the MNIST set and return us batches of 100 examples\n",
    "cifar_train_stream = DataStream.default_stream(\n",
    "    cifar_train,\n",
    "    iteration_scheme=ShuffledScheme(cifar_train.num_examples, 25))\n",
    "cifar_validation = CIFAR10((\"train\",), subset=slice(trainset, None))\n",
    "\n",
    "# We will use larger portions for testing and validation\n",
    "# as these dont do a backward pass and reauire less RAM.\n",
    "cifar_validation_stream = DataStream.default_stream(\n",
    "    cifar_validation, iteration_scheme=SequentialScheme(cifar_validation.num_examples, 25))\n",
    "cifar_test = CIFAR10((\"test\",))\n",
    "cifar_test_stream = DataStream.default_stream(\n",
    "    cifar_test, iteration_scheme=SequentialScheme(cifar_test.num_examples, 25))\n",
    "\n",
    "print \"The streams return batches containing %s\" % (cifar_train_stream.sources,)\n",
    "\n",
    "print \"Each trainin batch consits of a tuple containing:\"\n",
    "for element in next(cifar_train_stream.get_epoch_iterator()):\n",
    "    print \" - an array of size %s containing %s\" % (element.shape, element.dtype)\n",
    "    \n",
    "print \"Validation/test batches consits of tuples containing:\"\n",
    "for element in next(cifar_test_stream.get_epoch_iterator()):\n",
    "    print \" - an array of size %s containing %s\" % (element.shape, element.dtype)"
   ]
  },
  {
   "cell_type": "code",
   "execution_count": 36,
   "metadata": {
    "collapsed": true
   },
   "outputs": [],
   "source": [
    "#\n",
    "# These are taken from https://github.com/mila-udem/blocks\n",
    "# \n",
    "\n",
    "class Constant():\n",
    "    \"\"\"Initialize parameters to a constant.\n",
    "    The constant may be a scalar or a :class:`~numpy.ndarray` of any shape\n",
    "    that is broadcastable with the requested parameter arrays.\n",
    "    Parameters\n",
    "    ----------\n",
    "    constant : :class:`~numpy.ndarray`\n",
    "        The initialization value to use. Must be a scalar or an ndarray (or\n",
    "        compatible object, such as a nested list) that has a shape that is\n",
    "        broadcastable with any shape requested by `initialize`.\n",
    "    \"\"\"\n",
    "    def __init__(self, constant):\n",
    "        self._constant = numpy.asarray(constant)\n",
    "\n",
    "    def generate(self, rng, shape):\n",
    "        dest = numpy.empty(shape, dtype=np.float32)\n",
    "        dest[...] = self._constant\n",
    "        return dest\n",
    "\n",
    "\n",
    "class IsotropicGaussian():\n",
    "    \"\"\"Initialize parameters from an isotropic Gaussian distribution.\n",
    "    Parameters\n",
    "    ----------\n",
    "    std : float, optional\n",
    "        The standard deviation of the Gaussian distribution. Defaults to 1.\n",
    "    mean : float, optional\n",
    "        The mean of the Gaussian distribution. Defaults to 0\n",
    "    Notes\n",
    "    -----\n",
    "    Be careful: the standard deviation goes first and the mean goes\n",
    "    second!\n",
    "    \"\"\"\n",
    "    def __init__(self, std=1, mean=0):\n",
    "        self._mean = mean\n",
    "        self._std = std\n",
    "\n",
    "    def generate(self, rng, shape):\n",
    "        m = rng.normal(self._mean, self._std, size=shape)\n",
    "        return m.astype(np.float32)\n",
    "\n",
    "\n",
    "class Uniform():\n",
    "    \"\"\"Initialize parameters from a uniform distribution.\n",
    "    Parameters\n",
    "    ----------\n",
    "    mean : float, optional\n",
    "        The mean of the uniform distribution (i.e. the center of mass for\n",
    "        the density function); Defaults to 0.\n",
    "    width : float, optional\n",
    "        One way of specifying the range of the uniform distribution. The\n",
    "        support will be [mean - width/2, mean + width/2]. **Exactly one**\n",
    "        of `width` or `std` must be specified.\n",
    "    std : float, optional\n",
    "        An alternative method of specifying the range of the uniform\n",
    "        distribution. Chooses the width of the uniform such that random\n",
    "        variates will have a desired standard deviation. **Exactly one** of\n",
    "        `width` or `std` must be specified.\n",
    "    \"\"\"\n",
    "    def __init__(self, mean=0., width=None, std=None):\n",
    "        if (width is not None) == (std is not None):\n",
    "            raise ValueError(\"must specify width or std, \"\n",
    "                             \"but not both\")\n",
    "        if std is not None:\n",
    "            # Variance of a uniform is 1/12 * width^2\n",
    "            self._width = numpy.sqrt(12) * std\n",
    "        else:\n",
    "            self._width = width\n",
    "        self._mean = mean\n",
    "\n",
    "    def generate(self, rng, shape):\n",
    "        w = self._width / 2\n",
    "        m = rng.uniform(self._mean - w, self._mean + w, size=shape)\n",
    "        return m.astype(np.float32)"
   ]
  },
  {
   "cell_type": "code",
   "execution_count": 37,
   "metadata": {
    "collapsed": false
   },
   "outputs": [],
   "source": [
    "rng = np.random.RandomState(1234)\n",
    "srng = theano.tensor.shared_randomstreams.RandomStreams(rng.randint(999999))\n",
    "class Layer_ReLU():\n",
    "    \"Creates ReLU layer\"\n",
    "    def __init__(self):\n",
    "        pass\n",
    "    def apply(self,input_tensor,name):\n",
    "        return [None,None,theano.tensor.maximum(0.0,input_tensor)]\n",
    "\n",
    "class Layer_Conv():\n",
    "    def __init__(self,num_filters,filter_size,init_weight=None,padding=0):\n",
    "            self.num_filters=num_filters\n",
    "            self.filter_size=filter_size\n",
    "            self.padding=padding\n",
    "            if init_weight is not None:\n",
    "                self.init_weight=init_weight\n",
    "            else:\n",
    "                 self.init_weight=0.01\n",
    "    \n",
    "    def apply(self,input_tensor,name):\n",
    "        \n",
    "        CW = theano.shared(np.zeros((self.num_filters,input_tensor.tag.test_value.shape[1],self.filter_size,self.filter_size),\n",
    "                                    dtype='float32'),name='CW'+name)\n",
    "        CW.tag.initializer= IsotropicGaussian(self.init_weight)\n",
    "        CB = theano.shared(np.zeros((self.num_filters), dtype='float32'),\n",
    "                    name='CB'+name)\n",
    "        CB.tag.initializer = Constant(0.0)\n",
    "        output_tensor = theano.tensor.nnet.conv2d(input_tensor, CW) + CB.dimshuffle('x',0,'x','x')\n",
    "        return [CW,CB,output_tensor]\n",
    "\n",
    "class Layer_MaxPool():\n",
    "    def __init__(self,ds,st=None):\n",
    "        self.ds=ds\n",
    "        if st is not None:\n",
    "            self.st=st\n",
    "        else:\n",
    "            self.st=ds\n",
    "    \n",
    "    def apply(self,input_tensor,name):\n",
    "        return [None,None,theano.tensor.signal.downsample.max_pool_2d(input_tensor,ds=self.ds,st=self.st,ignore_border=True)]\n",
    "##TODO\n",
    "class Layer_LocalRespNorm():\n",
    "    def __init__(self, alpha = 1e-4, k=1, beta=0.75, n=5):\n",
    "        self.alpha=alpha\n",
    "        self.k=k;\n",
    "        self.beta=beta;\n",
    "        self.n=n;\n",
    "\n",
    "\n",
    "    def apply(self, input_tensor,name):\n",
    "        half = self.n // 2\n",
    "        input_squared=input_tensor**2\n",
    "        d0, d1, d2, d3 = input_tensor.shape\n",
    "        padded_input = theano.tensor.alloc(0., d0, d1+2*half, d2, d3)\n",
    "        input_squared = theano.tensor.set_subtensor(padded_input[:,half:half+d1,:,:], input_squared)\n",
    "        scale = theano.tensor.tensor4('S')\n",
    "        scale=input_tensor\n",
    "        #theano.tensor.mean(input_tensor, keepdims=True)\n",
    "        for i in xrange(self.n):\n",
    "            for j in xrange(self.n):\n",
    "                temporar=input_squared[:,i:i+d1,:,:]\n",
    "                scale += self.alpha * input_tensor[:,:,:]#input_squared[:,:,i:i+d2,j:j+d3]\n",
    "\n",
    "        \n",
    "        scale = scale ** self.beta\n",
    "\n",
    "        return [None,None,input_tensor / scale]\n",
    "\n",
    "class Flatten():\n",
    "    def __init__(self):\n",
    "        pass\n",
    "    def apply(self,input_tensor):\n",
    "        return theano.tensor.flatten(input_tensor,2)\n",
    "\n",
    "##TODO\n",
    "class Layer_Dropout():\n",
    "    def __init__(self,drop_probab):\n",
    "        self.p=drop_probab\n",
    "        self.train_on=True\n",
    "    def apply(self,input_tensor,name,train_on):\n",
    "        inp_shape=input_tensor.tag.test_value.shape\n",
    "        print inp_shape\n",
    "        mask = srng.binomial(n=1, p=(1-self.p), size=(inp_shape[1],inp_shape[2]), dtype='float32')\n",
    "        mask=theano.shared(mask,name='Dmask'+name)\n",
    "        #print numpy.asarray(srng.uniform(0.0,1.0,(inp_shape[1],inp_shape[2]))>=self.p,dtype='float32')\n",
    "        \n",
    "        train_tensor=input_tensor*mask.dimshuffle('x',0)\n",
    "        output_tensor= theano.tensor.switch(theano.tensor.neq(train_on, 0), train_tensor, (1.-self.p)*input_tensor)\n",
    "        return[None,None,output_tensor]\n",
    "\n",
    "class Layer_BatchNorm():\n",
    "    def __init__(self):\n",
    "        pass\n",
    "    def apply(self,input_tensor,name):\n",
    "        mean=theano.tensor.mean(input_tensor,axis=(0,2,3),keepdims=True)\n",
    "        std=theano.tensor.std(input_tensor,axis=(0,2,3),keepdims=True)\n",
    "        inp_shape=input_tensor.tag.test_value.shape\n",
    "        BNW = theano.shared(np.zeros(inp_shape[1],\n",
    "                                    dtype='float32'),name='BNW'+name)\n",
    "        BNW.tag.initializer= Constant(1)\n",
    "        BNB = theano.shared(np.zeros((inp_shape[1]), dtype='float32'),\n",
    "                    name='BNW'+name)\n",
    "        BNB.tag.initializer = IsotropicGaussian(0.01)\n",
    "        output_tensor=BNW.dimshuffle('x',0,'x','x')/(std+1e-3)*(input_tensor-mean)+BNB.dimshuffle('x',0,'x','x')\n",
    "        return [BNW,BNB,output_tensor]\n",
    "\n",
    "class Layer_RGBtoYUV():\n",
    "    def __init(self):\n",
    "        pass\n",
    "    \n",
    "    def apply(self,input_tensor,name):\n",
    "        r = input_tensor[:, 0, :, :]\n",
    "        g = input_tensor[:, 1, :, :]\n",
    "        b = input_tensor[:, 2, :, :]\n",
    "\n",
    "        y = 0.299 * r + 0.587 * g + 0.114 * b\n",
    "        u = -0.14713 * r - 0.28886 * g + 0.436 * b\n",
    "        v = 0.615 * r - 0.51499 * g - 0.10001 * b\n",
    "        \n",
    "        input_tensor = theano.tensor.set_subtensor(input_tensor[:, 0, :, :], y)\n",
    "        input_tensor = theano.tensor.set_subtensor(input_tensor[:, 1, :, :], u)\n",
    "        input_tensor = theano.tensor.set_subtensor(input_tensor[:, 2, :, :], v)\n",
    "        output_tensor=input_tensor\n",
    "        return [None,None,output_tensor]\n",
    "class Layer_Flip(): \n",
    "    def __init__(self,prob=0.2):\n",
    "        self.prob=prob\n",
    "        self.train_on=True\n",
    "    \n",
    "    def apply(self,input_tensor,name,train_on):\n",
    "        rv_u = srng.binomial(n=1,p=self.prob,size=(1,)).astype('float32')\n",
    "        f=theano.function([],rv_u)\n",
    "        coef=f()\n",
    "        train_tensor=input_tensor[:,:,:,::-1]*coef+(1-coef)*input_tensor\n",
    "        output_tensor= theano.tensor.switch(theano.tensor.neq(train_on, 0), train_tensor, input_tensor)\n",
    "        return [None,None,output_tensor]\n",
    "\n",
    "class Layer_GaussB(): \n",
    "    def __init__(self,filter_size,std=1.0):\n",
    "        self.std=std\n",
    "        self.filter_size=filter_size\n",
    "        self.train_on=True\n",
    "    \n",
    "    def apply(self,input_tensor,name):\n",
    "        half=self.filter_size//2\n",
    "        x = np.arange(-half,half+1)\n",
    "        y = np.arange(-half,half+1)\n",
    "        inp_shape=input_tensor.tag.test_value.shape\n",
    "        z = np.arange(0,inp_shape[1])\n",
    "        w = np.arange(0,inp_shape[1])\n",
    "        Z,W,X,Y=np.meshgrid(z,w,x,y)\n",
    "        gaussian=np.exp(-(X**2+Y**2)/(2*self.std**2))\n",
    "        gaussian=(inp_shape[1]**2*gaussian/np.sum(gaussian.reshape(-1))).astype(np.float32)\n",
    "        #print gaussian\n",
    "        G_kernel = theano.shared(gaussian)\n",
    "        train_tensor=theano.tensor.nnet.conv2d(input_tensor,G_kernel,border_mode='full')\n",
    "        output_tensor= theano.tensor.switch(theano.tensor.neq(train_on, 0), train_tensor, input_tensor)\n",
    "        return [None,None,output_tensor]\n",
    "\n",
    "class Layer_FullyCon():\n",
    "    def __init__(self,hidden_neurons,init_weight=None):\n",
    "        self.hidden_neurons=hidden_neurons\n",
    "        if init_weight is not None:\n",
    "            self.init_weight=init_weight\n",
    "        else:\n",
    "             self.init_weight=0.01\n",
    "        \n",
    "    def apply(self,input_tensor,name):\n",
    "        if input_tensor.tag.test_value.ndim!=2:\n",
    "            input_tensor=Flatten().apply(input_tensor)\n",
    "        \n",
    "        FW=theano.shared(np.zeros((input_tensor.tag.test_value.shape[1], self.hidden_neurons), dtype='float32'),\n",
    "                   name='FW'+name)\n",
    "        FW.tag.initializer = IsotropicGaussian(self.init_weight)\n",
    "        FB = theano.shared(np.zeros((self.hidden_neurons,), dtype='float32'),\n",
    "                    name='FB'+name)\n",
    "        FB.tag.initializer = Constant(0.0)\n",
    "        return [FW,FB,theano.tensor.dot(input_tensor,FW)+FB.dimshuffle('x',0)]\n",
    "    \n",
    "class Layer_SoftMax():\n",
    "    \"Creates Softmax Layer\"\n",
    "    def __init__(self):\n",
    "        pass\n",
    "    def apply(self,input_tensor,name):\n",
    "        return [None,None,theano.tensor.nnet.softmax(input_tensor)]"
   ]
  },
  {
   "cell_type": "code",
   "execution_count": 38,
   "metadata": {
    "collapsed": true
   },
   "outputs": [],
   "source": [
    "class Network():\n",
    "    def __init__(self,layers,X_test_value,train_on_value):\n",
    "        self.layers=layers\n",
    "        self.X_test_value=X_test_value\n",
    "        self.train_on_value=train_on_value\n",
    "    def apply(self,X,train_on):\n",
    "        model_parameters = []\n",
    "        X.tag.test_value=self.X_test_value\n",
    "        train_on.tag.test_value=self.train_on_value\n",
    "        for inx, layer in enumerate(self.layers):\n",
    "            name=str(inx)\n",
    "            if hasattr(layer,'train_on'):\n",
    "                FM,FB,newX=layer.apply(X,name,train_on)\n",
    "            else:\n",
    "                FM,FB,newX=layer.apply(X,name)\n",
    "            X=newX\n",
    "            print \"New X shape: %s\" % (X.tag.test_value.shape,)\n",
    "            if FM is not None:\n",
    "                model_parameters+= [FM,FB]\n",
    "        return X,model_parameters\n",
    "            \n",
    "            "
   ]
  },
  {
   "cell_type": "code",
   "execution_count": 39,
   "metadata": {
    "collapsed": false
   },
   "outputs": [
    {
     "name": "stdout",
     "output_type": "stream",
     "text": [
      "New X shape: (25, 3, 32, 32)\n",
      "New X shape: (25, 32, 28, 28)\n",
      "New X shape: (25, 32, 28, 28)\n",
      "New X shape: (25, 32, 14, 14)\n",
      "New X shape: (25, 32, 14, 14)\n",
      "New X shape: (25, 64, 10, 10)\n",
      "New X shape: (25, 64, 10, 10)\n",
      "New X shape: (25, 64, 5, 5)\n",
      "New X shape: (25, 64, 5, 5)\n",
      "New X shape: (25, 128, 1, 1)\n",
      "New X shape: (25, 128, 1, 1)\n",
      "New X shape: (25, 128, 1, 1)\n",
      "New X shape: (25, 512)\n",
      "New X shape: (25, 512)\n"
     ]
    }
   ],
   "source": [
    "# A theano variable is an entry to the cmputational graph\n",
    "# We will need to provide its value during function call\n",
    "# X is batch_size x num_channels x img_rows x img_columns\n",
    "X = theano.tensor.tensor4('X')\n",
    "train_on =theano.tensor.iscalar('train_on') \n",
    "# Y is 1D, it lists the targets for all examples\n",
    "Y = theano.tensor.matrix('Y', dtype='uint8')\n",
    "\n",
    "#The tag values are useful during debugging the creation of Theano graphs\n",
    "\n",
    "X_test_value, Y_test_value = next(cifar_train_stream.get_epoch_iterator())\n",
    "#\n",
    "# Unfortunately, test tags don't work with convolutions with newest Theano :(\n",
    "#\n",
    "theano.config.compute_test_value = 'raise' # Enable the computation of test values\n",
    "Y.tag.test_value = Y_test_value\n",
    "train_on.tag.test_value=1\n",
    "# this list will hold all parameters of the network\n",
    "\n",
    "model_parameters = []\n",
    "theano.config.on_unused_input='ignore'\n",
    "CNN=Network(\n",
    "    [\n",
    "     Layer_RGBtoYUV(),\n",
    "     Layer_Conv(32,5,0.001),\n",
    "     Layer_ReLU(),\n",
    "     Layer_MaxPool((2,2)),\n",
    "     Layer_BatchNorm(),\n",
    "     Layer_Conv(64,5,0.001),\n",
    "     Layer_ReLU(),\n",
    "     Layer_MaxPool((2,2)),\n",
    "     Layer_BatchNorm(),\n",
    "     Layer_Conv(128,5,0.01),\n",
    "     Layer_ReLU(),\n",
    "     Layer_MaxPool((1,1)),\n",
    "     Layer_FullyCon(512,0.05),\n",
    "     Layer_SoftMax()\n",
    "        \n",
    "    ],X_test_value,1)\n",
    "log_probs,model_parameters = CNN.apply(X,train_on)\n",
    "predictions =theano.tensor.argmax(log_probs, axis=1)\n",
    "error_rate = theano.tensor.neq(predictions,Y.ravel()).mean()\n",
    "nll = - theano.tensor.log(log_probs[theano.tensor.arange(Y.shape[0]), Y.ravel()]).mean()\n",
    "\n",
    "weight_decay = 0.0\n",
    "for p in model_parameters:\n",
    "    if p is not None  and p.name[1]=='W':\n",
    "        weight_decay = weight_decay + 1e-3 * (p**2).sum()\n",
    "\n",
    "cost = nll + weight_decay\n",
    "\n",
    "#At this point stop computing test values\n",
    "theano.config.compute_test_value = 'off' # Enable the computation of test values"
   ]
  },
  {
   "cell_type": "code",
   "execution_count": 40,
   "metadata": {
    "collapsed": false
   },
   "outputs": [],
   "source": [
    "updates = []\n",
    "lrate = theano.tensor.scalar('lrate',dtype='float32')\n",
    "momentum = theano.tensor.scalar('momentum',dtype='float32')\n",
    "\n",
    "# Theano will compute the gradients for us\n",
    "gradients = theano.grad(cost, model_parameters)\n",
    "\n",
    "#initialize storage for momentum\n",
    "velocities = [theano.shared(np.zeros_like(p.get_value()), name='V_%s' %(p.name, )) for p in model_parameters]\n",
    "\n",
    "for p,g,v in zip(model_parameters, gradients, velocities):\n",
    "    v_new = momentum * v - lrate * g\n",
    "    p_new = p + v_new\n",
    "    updates += [(v,v_new), (p, p_new)]\n"
   ]
  },
  {
   "cell_type": "code",
   "execution_count": 41,
   "metadata": {
    "collapsed": false
   },
   "outputs": [],
   "source": [
    "#compile theano functions\n",
    "\n",
    "#each call to train step will make one SGD step\n",
    "train_step = theano.function([X,Y,train_on,lrate,momentum],[cost, error_rate, nll, weight_decay],updates=updates)\n",
    "#each call to predict will return predictions on a batch of data\n",
    "predict = theano.function([X,train_on], predictions)"
   ]
  },
  {
   "cell_type": "code",
   "execution_count": 42,
   "metadata": {
    "collapsed": true
   },
   "outputs": [],
   "source": [
    "def compute_error_rate(stream):\n",
    "    errs = 0.0\n",
    "    num_samples = 0.0\n",
    "    for X, Y in stream.get_epoch_iterator():\n",
    "        errs += (predict(X,0)!=Y.ravel()).sum()\n",
    "        num_samples += Y.shape[0]\n",
    "    return errs/num_samples\n"
   ]
  },
  {
   "cell_type": "code",
   "execution_count": 43,
   "metadata": {
    "collapsed": true
   },
   "outputs": [],
   "source": [
    "#utilities to save values of parameters and to load them\n",
    "\n",
    "def init_parameters():\n",
    "    rng = np.random.RandomState(1234)\n",
    "    for p in model_parameters:\n",
    "        p.set_value(p.tag.initializer.generate(rng, p.get_value().shape))\n",
    "\n",
    "def snapshot_parameters():\n",
    "    return [p.get_value(borrow=False) for p in model_parameters]\n",
    "\n",
    "def load_parameters(snapshot):\n",
    "    for p, s in zip(model_parameters, snapshot):\n",
    "        p.set_value(s, borrow=False)"
   ]
  },
  {
   "cell_type": "code",
   "execution_count": 44,
   "metadata": {
    "collapsed": false
   },
   "outputs": [],
   "source": [
    "# init training\n",
    "\n",
    "i=0\n",
    "e=0\n",
    "\n",
    "init_parameters()\n",
    "for v in velocities:\n",
    "    v.set_value(np.zeros_like(v.get_value()))\n",
    "\n",
    "best_valid_error_rate = np.inf\n",
    "best_params = snapshot_parameters()\n",
    "best_params_epoch = 0\n",
    "\n",
    "train_erros = []\n",
    "train_loss = []\n",
    "train_nll = []\n",
    "validation_errors = []\n",
    "\n",
    "number_of_epochs = 3\n",
    "patience_expansion = 3"
   ]
  },
  {
   "cell_type": "code",
   "execution_count": 46,
   "metadata": {
    "collapsed": false,
    "scrolled": true
   },
   "outputs": [
    {
     "name": "stdout",
     "output_type": "stream",
     "text": [
      "At minibatch 32100, batch loss 0.521083, batch nll 0.205898, batch error rate 12.000000%\n",
      "At minibatch 32200, batch loss 0.496519, batch nll 0.181341, batch error rate 12.000000%\n",
      "At minibatch 32300, batch loss 0.457640, batch nll 0.142469, batch error rate 4.000000%\n",
      "At minibatch 32400, batch loss 0.429968, batch nll 0.114804, batch error rate 0.000000%\n",
      "At minibatch 32500, batch loss 0.393599, batch nll 0.078442, batch error rate 0.000000%\n",
      "At minibatch 32600, batch loss 0.564631, batch nll 0.249481, batch error rate 8.000000%\n",
      "At minibatch 32700, batch loss 0.509124, batch nll 0.193981, batch error rate 8.000000%\n",
      "At minibatch 32800, batch loss 0.475935, batch nll 0.160799, batch error rate 4.000000%\n",
      "At minibatch 32900, batch loss 0.452983, batch nll 0.137854, batch error rate 4.000000%\n",
      "At minibatch 33000, batch loss 0.353976, batch nll 0.038854, batch error rate 0.000000%\n",
      "At minibatch 33100, batch loss 0.448796, batch nll 0.133681, batch error rate 4.000000%\n",
      "At minibatch 33200, batch loss 0.405584, batch nll 0.090476, batch error rate 4.000000%\n",
      "At minibatch 33300, batch loss 0.421259, batch nll 0.106158, batch error rate 0.000000%\n",
      "At minibatch 33400, batch loss 0.456454, batch nll 0.141360, batch error rate 4.000000%\n",
      "At minibatch 33500, batch loss 0.345913, batch nll 0.030827, batch error rate 0.000000%\n",
      "At minibatch 33600, batch loss 0.424156, batch nll 0.109077, batch error rate 0.000000%\n",
      "After epoch 22: valid_err_rate: 24.580000% currently going to do 55 epochs\n",
      "After epoch 22: averaged train_err_rate: 2.476548% averaged train nll: 0.115152 averaged train loss: 0.430284\n",
      "At minibatch 33700, batch loss 0.382948, batch nll 0.067875, batch error rate 0.000000%\n"
     ]
    },
    {
     "ename": "KeyboardInterrupt",
     "evalue": "",
     "output_type": "error",
     "traceback": [
      "\u001b[1;31m---------------------------------------------------------------------------\u001b[0m",
      "\u001b[1;31mKeyboardInterrupt\u001b[0m                         Traceback (most recent call last)",
      "\u001b[1;32m<ipython-input-46-3c44e1f8651d>\u001b[0m in \u001b[0;36m<module>\u001b[1;34m()\u001b[0m\n\u001b[0;32m     20\u001b[0m         \u001b[0mmomentum\u001b[0m\u001b[1;33m=\u001b[0m\u001b[1;36m0.9\u001b[0m\u001b[1;33m\u001b[0m\u001b[0m\n\u001b[0;32m     21\u001b[0m \u001b[1;33m\u001b[0m\u001b[0m\n\u001b[1;32m---> 22\u001b[1;33m         \u001b[0mL\u001b[0m\u001b[1;33m,\u001b[0m \u001b[0merr_rate\u001b[0m\u001b[1;33m,\u001b[0m \u001b[0mnll\u001b[0m\u001b[1;33m,\u001b[0m \u001b[0mwdec\u001b[0m \u001b[1;33m=\u001b[0m \u001b[0mtrain_step\u001b[0m\u001b[1;33m(\u001b[0m\u001b[0mX_batch\u001b[0m\u001b[1;33m,\u001b[0m \u001b[0mY_batch\u001b[0m\u001b[1;33m,\u001b[0m\u001b[1;36m1\u001b[0m\u001b[1;33m,\u001b[0m \u001b[0mlrate\u001b[0m\u001b[1;33m,\u001b[0m \u001b[0mmomentum\u001b[0m\u001b[1;33m)\u001b[0m\u001b[1;33m\u001b[0m\u001b[0m\n\u001b[0m\u001b[0;32m     23\u001b[0m \u001b[1;33m\u001b[0m\u001b[0m\n\u001b[0;32m     24\u001b[0m         \u001b[1;31m#print [p.get_value().ravel()[:10] for p in model_parameters]\u001b[0m\u001b[1;33m\u001b[0m\u001b[1;33m\u001b[0m\u001b[0m\n",
      "\u001b[1;32m/pio/os/anaconda/lib/python2.7/site-packages/theano/compile/function_module.py\u001b[0m in \u001b[0;36m__call__\u001b[1;34m(self, *args, **kwargs)\u001b[0m\n\u001b[0;32m    593\u001b[0m         \u001b[0mt0_fn\u001b[0m \u001b[1;33m=\u001b[0m \u001b[0mtime\u001b[0m\u001b[1;33m.\u001b[0m\u001b[0mtime\u001b[0m\u001b[1;33m(\u001b[0m\u001b[1;33m)\u001b[0m\u001b[1;33m\u001b[0m\u001b[0m\n\u001b[0;32m    594\u001b[0m         \u001b[1;32mtry\u001b[0m\u001b[1;33m:\u001b[0m\u001b[1;33m\u001b[0m\u001b[0m\n\u001b[1;32m--> 595\u001b[1;33m             \u001b[0moutputs\u001b[0m \u001b[1;33m=\u001b[0m \u001b[0mself\u001b[0m\u001b[1;33m.\u001b[0m\u001b[0mfn\u001b[0m\u001b[1;33m(\u001b[0m\u001b[1;33m)\u001b[0m\u001b[1;33m\u001b[0m\u001b[0m\n\u001b[0m\u001b[0;32m    596\u001b[0m         \u001b[1;32mexcept\u001b[0m \u001b[0mException\u001b[0m\u001b[1;33m:\u001b[0m\u001b[1;33m\u001b[0m\u001b[0m\n\u001b[0;32m    597\u001b[0m             \u001b[1;32mif\u001b[0m \u001b[0mhasattr\u001b[0m\u001b[1;33m(\u001b[0m\u001b[0mself\u001b[0m\u001b[1;33m.\u001b[0m\u001b[0mfn\u001b[0m\u001b[1;33m,\u001b[0m \u001b[1;34m'position_of_error'\u001b[0m\u001b[1;33m)\u001b[0m\u001b[1;33m:\u001b[0m\u001b[1;33m\u001b[0m\u001b[0m\n",
      "\u001b[1;31mKeyboardInterrupt\u001b[0m: "
     ]
    }
   ],
   "source": [
    "# training loop\n",
    "\n",
    "while e<number_of_epochs: #This loop goes over epochs\n",
    "    e += 1\n",
    "    #First train on all data from this batch\n",
    "    epoch_start_i = i\n",
    "    for X_batch, Y_batch in cifar_train_stream.get_epoch_iterator(): \n",
    "        i += 1\n",
    "        #print i\n",
    "        \n",
    "        K = 2000\n",
    "        lrate = 4e-3 #* K / np.maximum(K, i)\n",
    "        #try 1e-3, 1e-4 after e\n",
    "        if e>10:\n",
    "            lrate=1e-4\n",
    "        if e>20:\n",
    "            lrate=1e-5\n",
    "        if e>40:\n",
    "            lrate=1e-6\n",
    "        momentum=0.9\n",
    "        \n",
    "        L, err_rate, nll, wdec = train_step(X_batch, Y_batch,1, lrate, momentum)\n",
    "        \n",
    "        #print [p.get_value().ravel()[:10] for p in model_parameters]\n",
    "        #print [p.get_value().ravel()[:10] for p in velocities]\n",
    "        \n",
    "        \n",
    "        train_loss.append((i,L))\n",
    "        train_erros.append((i,err_rate))\n",
    "        train_nll.append((i,nll))\n",
    "        if i % 100 == 0:\n",
    "            print \"At minibatch %d, batch loss %f, batch nll %f, batch error rate %f%%\" % (i, L, nll, err_rate*100)\n",
    "        \n",
    "    # After an epoch compute validation error\n",
    "    val_error_rate = compute_error_rate(cifar_validation_stream)\n",
    "    if val_error_rate < best_valid_error_rate:\n",
    "        number_of_epochs = np.maximum(number_of_epochs, e * patience_expansion+1)\n",
    "        best_valid_error_rate = val_error_rate\n",
    "        best_params = snapshot_parameters()\n",
    "        best_params_epoch = e\n",
    "    validation_errors.append((i,val_error_rate))\n",
    "    print \"After epoch %d: valid_err_rate: %f%% currently going to do %d epochs\" %(\n",
    "        e, val_error_rate*100, number_of_epochs)\n",
    "\n",
    "    print \"After epoch %d: averaged train_err_rate: %f%% averaged train nll: %f averaged train loss: %f\" %(\n",
    "        e, np.mean(np.asarray(train_erros)[epoch_start_i:,1])*100, \n",
    "        np.mean(np.asarray(train_nll)[epoch_start_i:,1]),\n",
    "        np.mean(np.asarray(train_loss)[epoch_start_i:,1]))\n"
   ]
  },
  {
   "cell_type": "code",
   "execution_count": 47,
   "metadata": {
    "collapsed": false
   },
   "outputs": [
    {
     "name": "stdout",
     "output_type": "stream",
     "text": [
      "Setting network parameters from after epoch 18\n",
      "Test error rate is 24.250000%\n"
     ]
    },
    {
     "data": {
      "text/plain": [
       "<matplotlib.legend.Legend at 0x7f9ad36f2410>"
      ]
     },
     "execution_count": 47,
     "metadata": {},
     "output_type": "execute_result"
    },
    {
     "data": {
      "image/png": "[encoded data removed]",
      "text/plain": [
       "<matplotlib.figure.Figure at 0x7f9b0a40bf90>"
      ]
     },
     "metadata": {},
     "output_type": "display_data"
    }
   ],
   "source": [
    "print \"Setting network parameters from after epoch %d\" %(best_params_epoch)\n",
    "load_parameters(best_params)\n",
    "\n",
    "print \"Test error rate is %f%%\" %(compute_error_rate(cifar_test_stream)*100.0,)\n",
    "\n",
    "subplot(2,1,1)\n",
    "train_nll_a = np.array(train_nll)\n",
    "semilogy(train_nll_a[:,0], train_nll_a[:,1], label='batch train nll')\n",
    "legend()\n",
    "\n",
    "subplot(2,1,2)\n",
    "train_erros_a = np.array(train_erros)\n",
    "plot(train_erros_a[:,0], train_erros_a[:,1], label='batch train error rate')\n",
    "validation_errors_a = np.array(validation_errors)\n",
    "plot(validation_errors_a[:,0], validation_errors_a[:,1], label='validation error rate', color='r')\n",
    "ylim(0,0.2)\n",
    "legend()"
   ]
  },
  {
   "cell_type": "code",
   "execution_count": null,
   "metadata": {
    "collapsed": false
   },
   "outputs": [],
   "source": [
    "#How do the filters in the first layer look like?\n",
    "\n",
    "plot_mat(CW1.get_value(), cmap='gray')"
   ]
  },
  {
   "cell_type": "code",
   "execution_count": null,
   "metadata": {
    "collapsed": false
   },
   "outputs": [],
   "source": [
    "iii = predict.maker.inputs[0]\n",
    "X = iii.variable"
   ]
  },
  {
   "cell_type": "code",
   "execution_count": null,
   "metadata": {
    "collapsed": false
   },
   "outputs": [],
   "source": [
    "# build a function that shows how the network processes an image\n",
    "\n",
    "middle_layers_computer = theano.function([X], [\n",
    "        X,\n",
    "        after_C1,\n",
    "        after_P1,\n",
    "        after_C2,\n",
    "        after_P2\n",
    "        ])\n"
   ]
  },
  {
   "cell_type": "code",
   "execution_count": null,
   "metadata": {
    "collapsed": false
   },
   "outputs": [],
   "source": [
    "img_num=4\n",
    "\n",
    "middle_layers = middle_layers_computer(X_test_value[img_num:img_num+1])\n",
    "\n",
    "for ml, name in zip(middle_layers, ['X', 'C1', 'P1', 'C2', 'P2']):\n",
    "    plot_mat(ml.transpose(1,0,2,3), cmap='gray')\n",
    "    title(name)\n",
    "    show()"
   ]
  },
  {
   "cell_type": "code",
   "execution_count": null,
   "metadata": {
    "collapsed": true
   },
   "outputs": [],
   "source": []
  }
 ],
 "metadata": {
  "kernelspec": {
   "display_name": "Python 2",
   "language": "python",
   "name": "python2"
  },
  "language_info": {
   "codemirror_mode": {
    "name": "ipython",
    "version": 2
   },
   "file_extension": ".py",
   "mimetype": "text/x-python",
   "name": "python",
   "nbconvert_exporter": "python",
   "pygments_lexer": "ipython2",
   "version": "2.7.10"
  }
 },
 "nbformat": 4,
 "nbformat_minor": 0
}
